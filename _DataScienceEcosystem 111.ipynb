{
 "cells": [
  {
   "cell_type": "markdown",
   "id": "88c80c87",
   "metadata": {},
   "source": [
    "# Data Science Tools and Ecosystem"
   ]
  },
  {
   "cell_type": "markdown",
   "id": "9f32971d",
   "metadata": {},
   "source": [
    " ## In this notebook, Data Science Tools and Ecosystem are summarized.\n",
    "    "
   ]
  },
  {
   "cell_type": "markdown",
   "id": "58444e12",
   "metadata": {},
   "source": [
    "#### some of the key takeaways from the course\n",
    "***Objectives:***\n",
    "    \n",
    "- Python\n",
    "- Julia\n",
    "- R\n",
    "- Sql"
   ]
  },
  {
   "cell_type": "markdown",
   "id": "2b63b2fd",
   "metadata": {},
   "source": [
    "#### Some of the popular languages that Data Scientists use are:\n",
    "\n",
    "<ol>\n",
    "<li>Python</li>\n",
    "<li>Julia</li>\n",
    "<li>R</li>\n",
    "<li>Sql</li>\n",
    "<li>Java</li>\n",
    "    </ol>"
   ]
  },
  {
   "cell_type": "markdown",
   "id": "56780681",
   "metadata": {},
   "source": [
    "#### Some of the commonly used libraries used by Data Scientists include:\n",
    "\n",
    "<ol>\n",
    "<li>numpy</li>\n",
    "<li>pandas</li>\n",
    "<li>pytorch</li>\n",
    "<li>matplotlib</li>\n",
    "<li>tenserflow</li>\n",
    "    </ol>"
   ]
  },
  {
   "cell_type": "markdown",
   "id": "ac50e255",
   "metadata": {},
   "source": [
    "|Data Science Tools  | \n",
    "|---|\n",
    "|tenserflow|\n",
    "|apchespark|\n",
    "||python|"
   ]
  },
  {
   "cell_type": "markdown",
   "id": "40d2a7e5",
   "metadata": {},
   "source": [
    "### H3: Below are a few examples of evaluating arithmetic expressions in Python"
   ]
  },
  {
   "cell_type": "code",
   "execution_count": 7,
   "id": "b71d96e5",
   "metadata": {},
   "outputs": [
    {
     "data": {
      "text/plain": [
       "17"
      ]
     },
     "execution_count": 7,
     "metadata": {},
     "output_type": "execute_result"
    }
   ],
   "source": [
    "# This a simple arithmetic expression to mutiply then add integers\n",
    "(3*4)+5\n"
   ]
  },
  {
   "cell_type": "code",
   "execution_count": 9,
   "id": "1d123262",
   "metadata": {},
   "outputs": [
    {
     "data": {
      "text/plain": [
       "3.3333333333333335"
      ]
     },
     "execution_count": 9,
     "metadata": {},
     "output_type": "execute_result"
    }
   ],
   "source": [
    "# This will convert 200 minutes to hours by diving by 60\n",
    "200/60"
   ]
  },
  {
   "cell_type": "markdown",
   "id": "30c3ca03",
   "metadata": {},
   "source": [
    "## Author\n",
    "V Sai Durga Sarath Nikhil"
   ]
  },
  {
   "cell_type": "code",
   "execution_count": null,
   "id": "4f883325",
   "metadata": {},
   "outputs": [],
   "source": []
  }
 ],
 "metadata": {
  "kernelspec": {
   "display_name": "Python 3 (ipykernel)",
   "language": "python",
   "name": "python3"
  },
  "language_info": {
   "codemirror_mode": {
    "name": "ipython",
    "version": 3
   },
   "file_extension": ".py",
   "mimetype": "text/x-python",
   "name": "python",
   "nbconvert_exporter": "python",
   "pygments_lexer": "ipython3",
   "version": "3.9.12"
  }
 },
 "nbformat": 4,
 "nbformat_minor": 5
}
